{
 "cells": [
  {
   "cell_type": "code",
   "execution_count": null,
   "metadata": {},
   "outputs": [],
   "source": [
    "g = 9.807"
   ]
  },
  {
   "cell_type": "markdown",
   "metadata": {},
   "source": [
    "2. At 45° latitude, the gravitational acceleration as a function of elevation z above sea level is given by \n",
    "g = a – b*h, where a = 9.807 m/s2 and b = 3,32*10-6 s2. Determine the height above sea level where the weight of an object will decrease by 0.5 percent.\n",
    "\n",
    "\n",
    "Na szerokości geograficznej 45° przyspieszenie grawitacyjne jako funkcja wysokości \\(z\\) nad poziomem morza jest dane wzorem \\(g = a - bz\\), gdzie:\n",
    "\n",
    "- \\(a = 9,807 \\, \\text{m/s}^2\\)\n",
    "- \\(b = 3,32 \\times 10^{-6} \\, \\text{s}^{-2}\\)\n",
    "\n",
    "Określ wysokość nad poziomem morza, na której ciężar obiektu zmniejszy się o 0,5%.\n"
   ]
  }
 ],
 "metadata": {
  "kernelspec": {
   "display_name": "oze-engineering",
   "language": "python",
   "name": "python3"
  },
  "language_info": {
   "codemirror_mode": {
    "name": "ipython",
    "version": 3
   },
   "file_extension": ".py",
   "mimetype": "text/x-python",
   "name": "python",
   "nbconvert_exporter": "python",
   "pygments_lexer": "ipython3",
   "version": "3.11.7"
  }
 },
 "nbformat": 4,
 "nbformat_minor": 2
}
